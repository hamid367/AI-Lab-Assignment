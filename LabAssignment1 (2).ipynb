{
  "nbformat": 4,
  "nbformat_minor": 0,
  "metadata": {
    "colab": {
      "provenance": []
    },
    "kernelspec": {
      "name": "python3",
      "display_name": "Python 3"
    },
    "language_info": {
      "name": "python"
    }
  },
  "cells": [
    {
      "cell_type": "code",
      "execution_count": 2,
      "metadata": {
        "colab": {
          "base_uri": "https://localhost:8080/"
        },
        "id": "g2LLsQv1TXsS",
        "outputId": "ac9daf56-0286-45cd-862e-90e6e0c781fd"
      },
      "outputs": [
        {
          "output_type": "stream",
          "name": "stdout",
          "text": [
            "Path found: [(0, 0), (0, 1), (0, 2), (1, 2), (2, 2), (2, 3), (3, 3)]\n"
          ]
        }
      ],
      "source": [
        "from collections import deque\n",
        "\n",
        "def solve_maze(maze, start, exit):\n",
        "    queue = deque()\n",
        "    visited = set()\n",
        "    parent = {}\n",
        "\n",
        "    queue.append(start)\n",
        "    visited.add(start)\n",
        "\n",
        "    while queue:\n",
        "        current = queue.popleft()\n",
        "\n",
        "        if current == exit:\n",
        "            # Path found, backtrack to get the path\n",
        "            path = []\n",
        "            while current != start:\n",
        "                path.append(current)\n",
        "                current = parent[current]\n",
        "            path.append(start)\n",
        "            path.reverse()\n",
        "            return path\n",
        "\n",
        "        # Check adjacent nodes\n",
        "        for action in [(0, 1), (0, -1), (1, 0), (-1, 0)]:\n",
        "            next_node = (current[0] + action[0], current[1] + action[1])\n",
        "            if next_node in maze and next_node not in visited:\n",
        "                queue.append(next_node)\n",
        "                visited.add(next_node)\n",
        "                parent[next_node] = current\n",
        "\n",
        "    # No path found\n",
        "    return None\n",
        "\n",
        "# Example usage\n",
        "maze = {(0, 0), (0, 1), (0, 2), (1, 2), (2, 2), (2, 3), (3, 3)}\n",
        "start = (0, 0)\n",
        "exit = (3, 3)\n",
        "\n",
        "path = solve_maze(maze, start, exit)\n",
        "if path:\n",
        "    print(\"Path found:\", path)\n",
        "else:\n",
        "    print(\"No path found\")\n"
      ]
    },
    {
      "cell_type": "code",
      "source": [
        "# dfs\n",
        "\n",
        "def dfs(visited,graph,node):\n",
        "  print(node , end=\" \")\n",
        "  visited.add(node)\n",
        "\n",
        "  for neighbor in graph[node]:\n",
        "    if neighbor not in visited:\n",
        "      dfs(visited,graph,neighbor)\n",
        "\n",
        "\n",
        "graph = {\n",
        "    'A':['B','C'],\n",
        "    'B':['D','E'],\n",
        "    'C':['F'],\n",
        "    'D':[],\n",
        "    'E':['F'],\n",
        "    'F':[]\n",
        "}\n",
        "\n",
        "visited = set()\n",
        "dfs(visited,graph,'B')"
      ],
      "metadata": {
        "id": "li9L6WGDTbkx"
      },
      "execution_count": null,
      "outputs": []
    },
    {
      "cell_type": "code",
      "source": [
        "from collections import deque\n",
        "\n",
        "def bfs(graph,start):\n",
        "  visited = set()\n",
        "  queue = deque([start])\n",
        "  visited.add(start)\n",
        "\n",
        "  while queue:\n",
        "    node = queue.popleft()\n",
        "    print(node , end=\" \")\n",
        "\n",
        "    for neighbor in graph[node]:\n",
        "      if neighbor not in visited:\n",
        "        queue.append(neighbor)\n",
        "        visited.add(neighbor)\n",
        "\n",
        "graph = {\n",
        "    0: [1, 2],\n",
        "    1: [2],\n",
        "    2: [0, 3],\n",
        "    3: []\n",
        "}\n",
        "\n",
        "bfs(graph, 0)"
      ],
      "metadata": {
        "id": "-SfKgGKlTeuZ"
      },
      "execution_count": null,
      "outputs": []
    },
    {
      "cell_type": "code",
      "source": [
        "#Alpha Beta Pruning\n",
        "#Tic-Tac-Toe Game\n",
        "\n",
        "\n",
        "def minimax_alpha_beta(board, depth, alpha, beta, maximizing_player):\n",
        "    # Check if the game is over or the maximum depth is reached\n",
        "    if depth == 0 or game_over(board):\n",
        "        return evaluate(board)\n",
        "\n",
        "    if maximizing_player:\n",
        "        max_eval = float('-inf')\n",
        "        for move in available_moves(board):\n",
        "            board.make_move(move, 'X')\n",
        "            eval = minimax_alpha_beta(board, depth - 1, alpha, beta, False)\n",
        "            board.undo_move(move)\n",
        "            max_eval = max(max_eval, eval)\n",
        "            alpha = max(alpha, eval)\n",
        "            if beta <= alpha:\n",
        "                break\n",
        "        return max_eval\n",
        "    else:\n",
        "        min_eval = float('inf')\n",
        "        for move in available_moves(board):\n",
        "            board.make_move(move, 'O')\n",
        "            eval = minimax_alpha_beta(board, depth - 1, alpha, beta, True)\n",
        "            board.undo_move(move)\n",
        "            min_eval = min(min_eval, eval)\n",
        "            beta = min(beta, eval)\n",
        "            if beta <= alpha:\n",
        "                break\n",
        "        return min_eval\n",
        "\n",
        "# Example usage:\n",
        "initial_board = [[' ', ' ', ' '],\n",
        "                 [' ', ' ', ' '],\n",
        "                 [' ', ' ', ' ']]\n",
        "\n",
        "alpha = float('-inf')\n",
        "beta = float('inf')\n",
        "maximizing_player = True\n",
        "depth = 3\n",
        "\n",
        "best_value = minimax_alpha_beta(initial_board, depth, alpha, beta,\n",
        "                                maximizing_player)\n",
        "print(\"Best value:\", best_value)\n"
      ],
      "metadata": {
        "id": "OlVrdQ1ZUeB7"
      },
      "execution_count": null,
      "outputs": []
    },
    {
      "cell_type": "code",
      "source": [
        "Task 2"
      ],
      "metadata": {
        "id": "EHA_8EZ85JMH"
      },
      "execution_count": null,
      "outputs": []
    },
    {
      "cell_type": "markdown",
      "source": [],
      "metadata": {
        "id": "3X55ego75HST"
      }
    },
    {
      "cell_type": "code",
      "source": [
        "import random\n",
        "import time\n",
        "from collections import deque\n",
        "import pandas as pd\n",
        "import matplotlib.pyplot as plt\n",
        "\n",
        "# Function to generate random unique numbers within a specified range\n",
        "def generate_unique_numbers(range_size, total_numbers):\n",
        "    numbers = set()\n",
        "    while len(numbers) < total_numbers:\n",
        "        numbers.add(random.randint(1, range_size))\n",
        "    return list(numbers)\n",
        "\n",
        "# Function to build a binary tree from a list of numbers\n",
        "def build_tree(lst):\n",
        "    tree = {}\n",
        "    for num in lst:\n",
        "        if not tree:  # If the tree is empty, create the root node\n",
        "            tree[num] = {'left': None, 'right': None}\n",
        "        else:\n",
        "            current = tree\n",
        "            while True:\n",
        "                if num < list(current.keys())[0]:  # If the number is smaller, traverse left\n",
        "                    if current[list(current.keys())[0]]['left'] is None:\n",
        "                        current[list(current.keys())[0]]['left'] = {num: {'left': None, 'right': None}}\n",
        "                        break\n",
        "                    else:\n",
        "                        current = current[list(current.keys())[0]]['left']\n",
        "                else:  # If the number is larger, traverse right\n",
        "                    if current[list(current.keys())[0]]['right'] is None:\n",
        "                        current[list(current.keys())[0]]['right'] = {num: {'left': None, 'right': None}}\n",
        "                        break\n",
        "                    else:\n",
        "                        current = current[list(current.keys())[0]]['right']\n",
        "    return tree\n",
        "\n",
        "# Breadth First Search algorithm to find a goal value in a binary tree\n",
        "def bfs(tree, goal):\n",
        "    start_time = time.time()\n",
        "    queue = deque([(tree, [])])  # Initialize a queue with the root node and an empty path\n",
        "    while queue:\n",
        "        node, path = queue.popleft()  # Pop the leftmost node from the queue\n",
        "        if list(node.keys())[0] == goal:  # If the goal is found, return the time taken\n",
        "            end_time = time.time()\n",
        "            return end_time - start_time\n",
        "        if node[list(node.keys())[0]]['left']:  # If the left child exists, append it to the queue\n",
        "            queue.append((node[list(node.keys())[0]]['left'], path + [list(node.keys())[0]]))\n",
        "        if node[list(node.keys())[0]]['right']:  # If the right child exists, append it to the queue\n",
        "            queue.append((node[list(node.keys())[0]]['right'], path + [list(node.keys())[0]]))\n",
        "    return None\n",
        "\n",
        "# Depth First Search algorithm to find a goal value in a binary tree\n",
        "def dfs(tree, goal):\n",
        "    start_time = time.time()\n",
        "    stack = [(tree, [])]  # Initialize a stack with the root node and an empty path\n",
        "    while stack:\n",
        "        node, path = stack.pop()  # Pop the top node from the stack\n",
        "        if list(node.keys())[0] == goal:  # If the goal is found, return the time taken\n",
        "            end_time = time.time()\n",
        "            return end_time - start_time\n",
        "        if node[list(node.keys())[0]]['right']:  # If the right child exists, append it to the stack\n",
        "            stack.append((node[list(node.keys())[0]]['right'], path + [list(node.keys())[0]]))\n",
        "        if node[list(node.keys())[0]]['left']:  # If the left child exists, append it to the stack\n",
        "            stack.append((node[list(node.keys())[0]]['left'], path + [list(node.keys())[0]]))\n",
        "    return None\n",
        "\n",
        "# Generate random unique numbers for each specified range\n",
        "ranges = [1000, 40000, 80000, 200000, 1000000]\n",
        "results = []\n",
        "\n",
        "for range_size in ranges:\n",
        "    lst = generate_unique_numbers(range_size, 1000)  # Generate a list of unique numbers\n",
        "    tree = build_tree(lst)  # Build a binary tree from the list\n",
        "    goal = lst[-220]  # Set the goal value to be searched for\n",
        "    bfs_time = bfs(tree, goal)  # Perform BFS and record the time taken\n",
        "    dfs_time = dfs(tree, goal)  # Perform DFS and record the time taken\n",
        "    results.append([range_size, bfs_time, dfs_time])  # Append results for this range\n",
        "\n",
        "# Create a dataframe to store the results\n",
        "df = pd.DataFrame(results, columns=['Range', 'BFS Time', 'DFS Time'])\n",
        "print(df)  # Print the dataframe containing the results\n",
        "\n",
        "# Plotting\n",
        "plt.figure(figsize=(10, 6))\n",
        "\n",
        "# Extracting data for plotting\n",
        "range_sizes = df['Range']\n",
        "bfs_times = df['BFS Time']\n",
        "dfs_times = df['DFS Time']\n",
        "\n",
        "# Plotting BFS time\n",
        "plt.bar(range(len(range_sizes)), bfs_times, width=0.4, align='center', label='BFS')\n",
        "\n",
        "# Plotting DFS time\n",
        "plt.bar([i + 0.4 for i in range(len(range_sizes))], dfs_times, width=0.4, align='center', label='DFS')\n",
        "\n",
        "# X-axis\n",
        "plt.xticks([i + 0.2 for i in range(len(range_sizes))], range_sizes)\n",
        "plt.xlabel('Range Size')\n",
        "\n",
        "# Y-axis\n",
        "plt.ylabel('Time (Seconds)')\n",
        "\n",
        "# Title and legend\n",
        "plt.title('Time Taken by BFS and DFS for Different Range Sizes')\n",
        "plt.legend()\n",
        "\n",
        "# Show plot\n",
        "plt.tight_layout()\n",
        "plt.show()\n"
      ],
      "metadata": {
        "id": "fOr1VvcIU8Rb",
        "colab": {
          "base_uri": "https://localhost:8080/",
          "height": 711
        },
        "outputId": "a013ad64-e866-464e-8b82-4bd4929fb260"
      },
      "execution_count": 4,
      "outputs": [
        {
          "output_type": "stream",
          "name": "stdout",
          "text": [
            "     Range  BFS Time  DFS Time\n",
            "0     1000  0.002017  0.001924\n",
            "1    40000  0.001159  0.001555\n",
            "2    80000  0.001007  0.000139\n",
            "3   200000  0.001083  0.001696\n",
            "4  1000000  0.001377  0.000432\n"
          ]
        },
        {
          "output_type": "display_data",
          "data": {
            "text/plain": [
              "<Figure size 1000x600 with 1 Axes>"
            ],
            "image/png": "[encoded data removed]"
          },
          "metadata": {}
        }
      ]
    }
  ]
}